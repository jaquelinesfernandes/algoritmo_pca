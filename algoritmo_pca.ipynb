{
 "cells": [
  {
   "cell_type": "markdown",
   "metadata": {},
   "source": [
    "## Algoritmo PCA em Python \n",
    "##### *PCA (Principal Component Analysis)"
   ]
  },
  {
   "cell_type": "markdown",
   "metadata": {},
   "source": [
    "Técnica de redução da dimensionalidade: transformar um conjunto de variáveis possilvemente correlacionadas em um conjunto de valores de variáveis linearmente não correlacionadas, chamadas de componentes principais. Este processo é realizado mantendo-se o máximo possível da variabilidade presente no conjunto de dados original."
   ]
  },
  {
   "cell_type": "markdown",
   "metadata": {},
   "source": [
    "#### PCA é especialmente útil em situações com dados de alta dimensionalidade (com muitas variáveis), onde a visualização e análise se tornam complexas.\n",
    "\n",
    "- facilita a visualização de dados, a descoberta de padrões importantes e a redução do ruído, mantendo ao mesmo tempo as características mais significativas do conjunto de dados.\n",
    "- útil: análise exploratória de dados, pré-processamento para algoritmos de Machine Learning, compressão de dados, etc."
   ]
  },
  {
   "cell_type": "markdown",
   "metadata": {},
   "source": [
    "#### Funcionamento do algortimo PCA pode ser descrito da seguinte maneira:\n",
    "\n",
    "- Normalização dos Dados: Inicialmente os dados são normalmente padrozinizados, especialmente se as variáveis tem unidade de medida diferentes. Isso envolve subtrair a média e dividir pelo desvio padrão de cada variável.\n",
    "- Cálculo da Matriz de Convariância: A matriz de covariância é calculada para entender como as variáveis no conjunto de dados estão variando em relação umas ás outras.\n",
    "- Determinação de Autovalores e Autovetores: A partir da matriz de covariância são calculados os autovalores e autovetores. Os autovalores indicam a quantidade de variância que pode ser atribuída a cada autovetor ( ou componente principal).\n",
    "- Seleção de Componentes Principais: Os componentes principais são selecionados com base na quantidade de variância que eles representam. Geralmente, escolhe-se um número de componentes que somam a maior parte da variância total, o que permite uma representação simplificada do conjunto de dados original.\n",
    "- Transformação dos Dados:  Por fim os dados originais são tranformados em um novo conjunto de dados com base nos componentes principais selecionados."
   ]
  },
  {
   "cell_type": "markdown",
   "metadata": {},
   "source": [
    "#### Dataset: Quiz com respostas de 40 alunos com 49 perguntas (Dados fictícios)\n",
    "\n",
    "Objetivo: reduzir a dimensionalidade do dataset, onde cada resposta representa uma varíavel, no caso queremos reduzir a quantidade de perguntas."
   ]
  },
  {
   "cell_type": "code",
   "execution_count": 1,
   "metadata": {},
   "outputs": [],
   "source": [
    "# Imports\n",
    "import numpy as np\n",
    "import pandas as pd"
   ]
  },
  {
   "cell_type": "code",
   "execution_count": 2,
   "metadata": {},
   "outputs": [],
   "source": [
    "# Importando o dataset\n",
    "df = pd.read_csv(\"dataset.csv\", index_col=0)"
   ]
  },
  {
   "cell_type": "code",
   "execution_count": 3,
   "metadata": {},
   "outputs": [
    {
     "data": {
      "text/plain": [
       "(40, 49)"
      ]
     },
     "execution_count": 3,
     "metadata": {},
     "output_type": "execute_result"
    }
   ],
   "source": [
    "df.shape"
   ]
  },
  {
   "cell_type": "code",
   "execution_count": 4,
   "metadata": {},
   "outputs": [
    {
     "data": {
      "text/html": [
       "<div>\n",
       "<style scoped>\n",
       "    .dataframe tbody tr th:only-of-type {\n",
       "        vertical-align: middle;\n",
       "    }\n",
       "\n",
       "    .dataframe tbody tr th {\n",
       "        vertical-align: top;\n",
       "    }\n",
       "\n",
       "    .dataframe thead th {\n",
       "        text-align: right;\n",
       "    }\n",
       "</style>\n",
       "<table border=\"1\" class=\"dataframe\">\n",
       "  <thead>\n",
       "    <tr style=\"text-align: right;\">\n",
       "      <th></th>\n",
       "      <th>186</th>\n",
       "      <th>295</th>\n",
       "      <th>321</th>\n",
       "      <th>337</th>\n",
       "      <th>464</th>\n",
       "      <th>469</th>\n",
       "      <th>502</th>\n",
       "      <th>506</th>\n",
       "      <th>563</th>\n",
       "      <th>931</th>\n",
       "      <th>...</th>\n",
       "      <th>1401</th>\n",
       "      <th>1402</th>\n",
       "      <th>1414</th>\n",
       "      <th>1422</th>\n",
       "      <th>1524</th>\n",
       "      <th>1551</th>\n",
       "      <th>1553</th>\n",
       "      <th>1559</th>\n",
       "      <th>1561</th>\n",
       "      <th>1568</th>\n",
       "    </tr>\n",
       "  </thead>\n",
       "  <tbody>\n",
       "    <tr>\n",
       "      <th>NSCLC_A549_1</th>\n",
       "      <td>171210.5829</td>\n",
       "      <td>1.246687e+06</td>\n",
       "      <td>527193.4870</td>\n",
       "      <td>411155.8781</td>\n",
       "      <td>59929.70461</td>\n",
       "      <td>49255.07973</td>\n",
       "      <td>171273.1364</td>\n",
       "      <td>159183.1286</td>\n",
       "      <td>663694.9741</td>\n",
       "      <td>35070.49713</td>\n",
       "      <td>...</td>\n",
       "      <td>95049.95991</td>\n",
       "      <td>1.719464e+06</td>\n",
       "      <td>645473.1920</td>\n",
       "      <td>89954.00002</td>\n",
       "      <td>52983.82193</td>\n",
       "      <td>1.672322e+06</td>\n",
       "      <td>6.867305e+05</td>\n",
       "      <td>259889.4715</td>\n",
       "      <td>1.563879e+06</td>\n",
       "      <td>189971.51110</td>\n",
       "    </tr>\n",
       "    <tr>\n",
       "      <th>NSCLC_H1703_2</th>\n",
       "      <td>204751.3591</td>\n",
       "      <td>1.338013e+06</td>\n",
       "      <td>571379.0841</td>\n",
       "      <td>486137.0920</td>\n",
       "      <td>89261.66256</td>\n",
       "      <td>72052.72202</td>\n",
       "      <td>187464.2389</td>\n",
       "      <td>180000.6140</td>\n",
       "      <td>443440.3745</td>\n",
       "      <td>89938.26439</td>\n",
       "      <td>...</td>\n",
       "      <td>131002.12740</td>\n",
       "      <td>8.290090e+05</td>\n",
       "      <td>293504.7109</td>\n",
       "      <td>42264.73772</td>\n",
       "      <td>97472.88420</td>\n",
       "      <td>1.608167e+06</td>\n",
       "      <td>9.408252e+05</td>\n",
       "      <td>363398.5823</td>\n",
       "      <td>3.043114e+05</td>\n",
       "      <td>35762.79339</td>\n",
       "    </tr>\n",
       "    <tr>\n",
       "      <th>NSCLC_H1703_1</th>\n",
       "      <td>203558.4952</td>\n",
       "      <td>1.040438e+06</td>\n",
       "      <td>498460.6875</td>\n",
       "      <td>411052.8868</td>\n",
       "      <td>96002.36973</td>\n",
       "      <td>0.00000</td>\n",
       "      <td>193894.4078</td>\n",
       "      <td>179518.9387</td>\n",
       "      <td>736672.9068</td>\n",
       "      <td>107041.34120</td>\n",
       "      <td>...</td>\n",
       "      <td>108827.84800</td>\n",
       "      <td>8.541730e+05</td>\n",
       "      <td>313811.6234</td>\n",
       "      <td>51125.12753</td>\n",
       "      <td>95633.56928</td>\n",
       "      <td>1.931491e+06</td>\n",
       "      <td>1.086556e+06</td>\n",
       "      <td>417606.0810</td>\n",
       "      <td>4.365568e+05</td>\n",
       "      <td>53865.65208</td>\n",
       "    </tr>\n",
       "    <tr>\n",
       "      <th>NSCLC_A549_2</th>\n",
       "      <td>245859.2006</td>\n",
       "      <td>1.371136e+06</td>\n",
       "      <td>153050.9373</td>\n",
       "      <td>495539.7034</td>\n",
       "      <td>81436.65785</td>\n",
       "      <td>85158.56741</td>\n",
       "      <td>0.0000</td>\n",
       "      <td>186757.1440</td>\n",
       "      <td>809830.2341</td>\n",
       "      <td>43565.82607</td>\n",
       "      <td>...</td>\n",
       "      <td>106003.59820</td>\n",
       "      <td>2.037000e+06</td>\n",
       "      <td>762600.1361</td>\n",
       "      <td>116878.29910</td>\n",
       "      <td>58497.52991</td>\n",
       "      <td>2.077164e+06</td>\n",
       "      <td>8.461167e+05</td>\n",
       "      <td>328548.1739</td>\n",
       "      <td>1.824857e+06</td>\n",
       "      <td>243842.05260</td>\n",
       "    </tr>\n",
       "    <tr>\n",
       "      <th>NSCLC_H1437_1</th>\n",
       "      <td>214448.1780</td>\n",
       "      <td>1.107106e+06</td>\n",
       "      <td>524333.5670</td>\n",
       "      <td>484994.8797</td>\n",
       "      <td>92368.82235</td>\n",
       "      <td>69868.54980</td>\n",
       "      <td>181168.8533</td>\n",
       "      <td>0.0000</td>\n",
       "      <td>635990.2172</td>\n",
       "      <td>51087.42828</td>\n",
       "      <td>...</td>\n",
       "      <td>83218.09256</td>\n",
       "      <td>1.269266e+06</td>\n",
       "      <td>459612.8875</td>\n",
       "      <td>64837.50435</td>\n",
       "      <td>0.00000</td>\n",
       "      <td>9.434720e+05</td>\n",
       "      <td>4.022300e+05</td>\n",
       "      <td>153070.9443</td>\n",
       "      <td>3.745915e+05</td>\n",
       "      <td>44104.41364</td>\n",
       "    </tr>\n",
       "    <tr>\n",
       "      <th>NSCLC_H2228_1</th>\n",
       "      <td>183191.6157</td>\n",
       "      <td>1.174738e+06</td>\n",
       "      <td>492585.8915</td>\n",
       "      <td>449578.4386</td>\n",
       "      <td>79716.72953</td>\n",
       "      <td>75515.06063</td>\n",
       "      <td>183437.4307</td>\n",
       "      <td>160558.7349</td>\n",
       "      <td>276662.4819</td>\n",
       "      <td>0.00000</td>\n",
       "      <td>...</td>\n",
       "      <td>95778.02450</td>\n",
       "      <td>2.198629e+06</td>\n",
       "      <td>822515.6724</td>\n",
       "      <td>111458.22230</td>\n",
       "      <td>71137.63905</td>\n",
       "      <td>6.518409e+05</td>\n",
       "      <td>3.243276e+05</td>\n",
       "      <td>120577.9019</td>\n",
       "      <td>2.398504e+05</td>\n",
       "      <td>26049.74665</td>\n",
       "    </tr>\n",
       "    <tr>\n",
       "      <th>NSCLC_H2228_2</th>\n",
       "      <td>175265.4691</td>\n",
       "      <td>1.202537e+06</td>\n",
       "      <td>534477.6418</td>\n",
       "      <td>411424.5102</td>\n",
       "      <td>78543.10781</td>\n",
       "      <td>73022.58488</td>\n",
       "      <td>188280.2568</td>\n",
       "      <td>166795.8967</td>\n",
       "      <td>279301.0355</td>\n",
       "      <td>0.00000</td>\n",
       "      <td>...</td>\n",
       "      <td>80946.89867</td>\n",
       "      <td>2.151175e+06</td>\n",
       "      <td>801903.5808</td>\n",
       "      <td>111787.12740</td>\n",
       "      <td>73818.14014</td>\n",
       "      <td>9.835338e+05</td>\n",
       "      <td>4.109319e+05</td>\n",
       "      <td>158182.4198</td>\n",
       "      <td>4.805162e+05</td>\n",
       "      <td>81599.98032</td>\n",
       "    </tr>\n",
       "    <tr>\n",
       "      <th>NSCLC_H1437_2</th>\n",
       "      <td>209841.9595</td>\n",
       "      <td>1.227508e+06</td>\n",
       "      <td>557683.2820</td>\n",
       "      <td>439658.0081</td>\n",
       "      <td>85554.76639</td>\n",
       "      <td>53375.19676</td>\n",
       "      <td>180316.8659</td>\n",
       "      <td>162056.8933</td>\n",
       "      <td>480095.9724</td>\n",
       "      <td>39254.98810</td>\n",
       "      <td>...</td>\n",
       "      <td>74083.46712</td>\n",
       "      <td>1.273900e+06</td>\n",
       "      <td>474645.3040</td>\n",
       "      <td>61945.54567</td>\n",
       "      <td>30605.31487</td>\n",
       "      <td>1.056893e+06</td>\n",
       "      <td>4.377822e+05</td>\n",
       "      <td>169338.1717</td>\n",
       "      <td>4.483407e+05</td>\n",
       "      <td>47908.89141</td>\n",
       "    </tr>\n",
       "    <tr>\n",
       "      <th>NSCLC_H3122_1</th>\n",
       "      <td>193689.1190</td>\n",
       "      <td>8.970122e+05</td>\n",
       "      <td>429777.7038</td>\n",
       "      <td>376694.1029</td>\n",
       "      <td>58148.61391</td>\n",
       "      <td>70389.01583</td>\n",
       "      <td>176004.3086</td>\n",
       "      <td>158849.0344</td>\n",
       "      <td>293541.8231</td>\n",
       "      <td>11293.18377</td>\n",
       "      <td>...</td>\n",
       "      <td>60621.49012</td>\n",
       "      <td>7.625104e+05</td>\n",
       "      <td>274212.8825</td>\n",
       "      <td>0.00000</td>\n",
       "      <td>11919.22697</td>\n",
       "      <td>9.998002e+05</td>\n",
       "      <td>3.356711e+05</td>\n",
       "      <td>125139.1320</td>\n",
       "      <td>1.894311e+06</td>\n",
       "      <td>0.00000</td>\n",
       "    </tr>\n",
       "    <tr>\n",
       "      <th>NSCLC_H322_2</th>\n",
       "      <td>182119.5458</td>\n",
       "      <td>9.764488e+05</td>\n",
       "      <td>397898.3481</td>\n",
       "      <td>408685.1330</td>\n",
       "      <td>89009.23679</td>\n",
       "      <td>74915.72330</td>\n",
       "      <td>194904.8565</td>\n",
       "      <td>181511.3540</td>\n",
       "      <td>304541.2244</td>\n",
       "      <td>47592.74145</td>\n",
       "      <td>...</td>\n",
       "      <td>77568.36857</td>\n",
       "      <td>1.694218e+06</td>\n",
       "      <td>632915.1408</td>\n",
       "      <td>82073.82128</td>\n",
       "      <td>49384.36621</td>\n",
       "      <td>8.424179e+05</td>\n",
       "      <td>2.581493e+05</td>\n",
       "      <td>101574.0772</td>\n",
       "      <td>1.193769e+06</td>\n",
       "      <td>64014.81829</td>\n",
       "    </tr>\n",
       "  </tbody>\n",
       "</table>\n",
       "<p>10 rows × 49 columns</p>\n",
       "</div>"
      ],
      "text/plain": [
       "                       186           295          321          337  \\\n",
       "NSCLC_A549_1   171210.5829  1.246687e+06  527193.4870  411155.8781   \n",
       "NSCLC_H1703_2  204751.3591  1.338013e+06  571379.0841  486137.0920   \n",
       "NSCLC_H1703_1  203558.4952  1.040438e+06  498460.6875  411052.8868   \n",
       "NSCLC_A549_2   245859.2006  1.371136e+06  153050.9373  495539.7034   \n",
       "NSCLC_H1437_1  214448.1780  1.107106e+06  524333.5670  484994.8797   \n",
       "NSCLC_H2228_1  183191.6157  1.174738e+06  492585.8915  449578.4386   \n",
       "NSCLC_H2228_2  175265.4691  1.202537e+06  534477.6418  411424.5102   \n",
       "NSCLC_H1437_2  209841.9595  1.227508e+06  557683.2820  439658.0081   \n",
       "NSCLC_H3122_1  193689.1190  8.970122e+05  429777.7038  376694.1029   \n",
       "NSCLC_H322_2   182119.5458  9.764488e+05  397898.3481  408685.1330   \n",
       "\n",
       "                       464          469          502          506  \\\n",
       "NSCLC_A549_1   59929.70461  49255.07973  171273.1364  159183.1286   \n",
       "NSCLC_H1703_2  89261.66256  72052.72202  187464.2389  180000.6140   \n",
       "NSCLC_H1703_1  96002.36973      0.00000  193894.4078  179518.9387   \n",
       "NSCLC_A549_2   81436.65785  85158.56741       0.0000  186757.1440   \n",
       "NSCLC_H1437_1  92368.82235  69868.54980  181168.8533       0.0000   \n",
       "NSCLC_H2228_1  79716.72953  75515.06063  183437.4307  160558.7349   \n",
       "NSCLC_H2228_2  78543.10781  73022.58488  188280.2568  166795.8967   \n",
       "NSCLC_H1437_2  85554.76639  53375.19676  180316.8659  162056.8933   \n",
       "NSCLC_H3122_1  58148.61391  70389.01583  176004.3086  158849.0344   \n",
       "NSCLC_H322_2   89009.23679  74915.72330  194904.8565  181511.3540   \n",
       "\n",
       "                       563           931  ...          1401          1402  \\\n",
       "NSCLC_A549_1   663694.9741   35070.49713  ...   95049.95991  1.719464e+06   \n",
       "NSCLC_H1703_2  443440.3745   89938.26439  ...  131002.12740  8.290090e+05   \n",
       "NSCLC_H1703_1  736672.9068  107041.34120  ...  108827.84800  8.541730e+05   \n",
       "NSCLC_A549_2   809830.2341   43565.82607  ...  106003.59820  2.037000e+06   \n",
       "NSCLC_H1437_1  635990.2172   51087.42828  ...   83218.09256  1.269266e+06   \n",
       "NSCLC_H2228_1  276662.4819       0.00000  ...   95778.02450  2.198629e+06   \n",
       "NSCLC_H2228_2  279301.0355       0.00000  ...   80946.89867  2.151175e+06   \n",
       "NSCLC_H1437_2  480095.9724   39254.98810  ...   74083.46712  1.273900e+06   \n",
       "NSCLC_H3122_1  293541.8231   11293.18377  ...   60621.49012  7.625104e+05   \n",
       "NSCLC_H322_2   304541.2244   47592.74145  ...   77568.36857  1.694218e+06   \n",
       "\n",
       "                      1414          1422         1524          1551  \\\n",
       "NSCLC_A549_1   645473.1920   89954.00002  52983.82193  1.672322e+06   \n",
       "NSCLC_H1703_2  293504.7109   42264.73772  97472.88420  1.608167e+06   \n",
       "NSCLC_H1703_1  313811.6234   51125.12753  95633.56928  1.931491e+06   \n",
       "NSCLC_A549_2   762600.1361  116878.29910  58497.52991  2.077164e+06   \n",
       "NSCLC_H1437_1  459612.8875   64837.50435      0.00000  9.434720e+05   \n",
       "NSCLC_H2228_1  822515.6724  111458.22230  71137.63905  6.518409e+05   \n",
       "NSCLC_H2228_2  801903.5808  111787.12740  73818.14014  9.835338e+05   \n",
       "NSCLC_H1437_2  474645.3040   61945.54567  30605.31487  1.056893e+06   \n",
       "NSCLC_H3122_1  274212.8825       0.00000  11919.22697  9.998002e+05   \n",
       "NSCLC_H322_2   632915.1408   82073.82128  49384.36621  8.424179e+05   \n",
       "\n",
       "                       1553         1559          1561          1568  \n",
       "NSCLC_A549_1   6.867305e+05  259889.4715  1.563879e+06  189971.51110  \n",
       "NSCLC_H1703_2  9.408252e+05  363398.5823  3.043114e+05   35762.79339  \n",
       "NSCLC_H1703_1  1.086556e+06  417606.0810  4.365568e+05   53865.65208  \n",
       "NSCLC_A549_2   8.461167e+05  328548.1739  1.824857e+06  243842.05260  \n",
       "NSCLC_H1437_1  4.022300e+05  153070.9443  3.745915e+05   44104.41364  \n",
       "NSCLC_H2228_1  3.243276e+05  120577.9019  2.398504e+05   26049.74665  \n",
       "NSCLC_H2228_2  4.109319e+05  158182.4198  4.805162e+05   81599.98032  \n",
       "NSCLC_H1437_2  4.377822e+05  169338.1717  4.483407e+05   47908.89141  \n",
       "NSCLC_H3122_1  3.356711e+05  125139.1320  1.894311e+06       0.00000  \n",
       "NSCLC_H322_2   2.581493e+05  101574.0772  1.193769e+06   64014.81829  \n",
       "\n",
       "[10 rows x 49 columns]"
      ]
     },
     "execution_count": 4,
     "metadata": {},
     "output_type": "execute_result"
    }
   ],
   "source": [
    "df.head(10)"
   ]
  },
  {
   "cell_type": "code",
   "execution_count": 5,
   "metadata": {},
   "outputs": [],
   "source": [
    "# Convertendo a matriz para o formato NumPy\n",
    "df_matriz = df.to_numpy()"
   ]
  },
  {
   "cell_type": "code",
   "execution_count": 6,
   "metadata": {},
   "outputs": [
    {
     "data": {
      "text/plain": [
       "(40, 49)"
      ]
     },
     "execution_count": 6,
     "metadata": {},
     "output_type": "execute_result"
    }
   ],
   "source": [
    "df_matriz.shape"
   ]
  },
  {
   "cell_type": "code",
   "execution_count": 7,
   "metadata": {},
   "outputs": [
    {
     "data": {
      "text/plain": [
       "array([[ 171210.5829 , 1246686.524  ,  527193.487  , ...,  259889.4715 ,\n",
       "        1563879.456  ,  189971.5111 ],\n",
       "       [ 204751.3591 , 1338013.461  ,  571379.0841 , ...,  363398.5823 ,\n",
       "         304311.3998 ,   35762.79339],\n",
       "       [ 203558.4952 , 1040438.105  ,  498460.6875 , ...,  417606.081  ,\n",
       "         436556.8065 ,   53865.65208],\n",
       "       ...,\n",
       "       [ 204221.0677 , 1278411.147  ,  566328.7108 , ...,  148904.9146 ,\n",
       "         708831.1396 ,  121367.7799 ],\n",
       "       [ 175149.2572 , 1101994.558  ,  175843.386  , ...,  144382.0813 ,\n",
       "          77809.90877,  287232.319  ],\n",
       "       [ 225370.32   , 1407596.388  ,       0.     , ...,  115385.9564 ,\n",
       "          61827.40414,  176777.0753 ]])"
      ]
     },
     "execution_count": 7,
     "metadata": {},
     "output_type": "execute_result"
    }
   ],
   "source": [
    "#Dados\n",
    "df_matriz"
   ]
  },
  {
   "cell_type": "markdown",
   "metadata": {},
   "source": [
    "#### Implementação do PCA-Version 1"
   ]
  },
  {
   "cell_type": "code",
   "execution_count": 8,
   "metadata": {},
   "outputs": [],
   "source": [
    "# Função com implementação do algoritmo PCA\n",
    "def PCA_V1(input):\n",
    "    \n",
    "    # Calculando a média de cada coluna\n",
    "    mean = np.mean(input, 0)\n",
    "    \n",
    "    # Subtraindo a média da matriz de entrada original\n",
    "    normalised_input = np.subtract(input, mean)\n",
    "    \n",
    "    # Calculando a transposta da matriz normalizada\n",
    "    normalised_input_transpose = np.transpose(normalised_input)\n",
    "    \n",
    "    # Número de amostras (linhas)\n",
    "    num_of_samples = input.shape[0]\n",
    "    \n",
    "    # Multiplicando as matrizes e dividindo por \"num_of_samples\" para obter a matriz de covariância\n",
    "    cov_mat = (np.dot(normalised_input_transpose, normalised_input)) / (num_of_samples)\n",
    "    \n",
    "    # Localizando autovalores and autovetores\n",
    "    value, vector = np.linalg.eig(np.array(cov_mat))\n",
    "    \n",
    "    # Ordenando os autovetores de acordo com os autovalores\n",
    "    index = value.argsort()[::-1]\n",
    "    eigen_value = value[index]\n",
    "    prin_component = vector[:,index]\n",
    "    \n",
    "    # Multiplicando matriz de componente principal com a matriz de dados de entrada para obter o PCA\n",
    "    pca_output = np.dot(normalised_input, prin_component)\n",
    "\n",
    "    return pca_output, eigen_value, prin_component, cov_mat"
   ]
  },
  {
   "cell_type": "code",
   "execution_count": 9,
   "metadata": {},
   "outputs": [],
   "source": [
    "# Executando o PCA\n",
    "pca_out, eigenval_v1, principal_component, cov_matrix = PCA_V1(df_matriz)"
   ]
  },
  {
   "cell_type": "code",
   "execution_count": 10,
   "metadata": {},
   "outputs": [],
   "source": [
    "# Somando a variância explicada por 10 componentes principais\n",
    "variancia_explicada_v1 = (eigenval_v1[0] / sum(eigenval_v1)) + \\\n",
    "                         (eigenval_v1[1] / sum(eigenval_v1)) + \\\n",
    "                         (eigenval_v1[2] / sum(eigenval_v1)) + \\\n",
    "                         (eigenval_v1[3] / sum(eigenval_v1)) + \\\n",
    "                         (eigenval_v1[4] / sum(eigenval_v1)) + \\\n",
    "                         (eigenval_v1[5] / sum(eigenval_v1)) + \\\n",
    "                         (eigenval_v1[6] / sum(eigenval_v1)) + \\\n",
    "                         (eigenval_v1[7] / sum(eigenval_v1)) + \\\n",
    "                         (eigenval_v1[8] / sum(eigenval_v1)) + \\\n",
    "                         (eigenval_v1[9] / sum(eigenval_v1)) "
   ]
  },
  {
   "cell_type": "code",
   "execution_count": 11,
   "metadata": {},
   "outputs": [],
   "source": [
    "# Convertendo para valor percentual\n",
    "variancia_explicada_percentual = variancia_explicada_v1 * 100"
   ]
  },
  {
   "cell_type": "code",
   "execution_count": 12,
   "metadata": {},
   "outputs": [
    {
     "name": "stdout",
     "output_type": "stream",
     "text": [
      "Total de Variância dos Dados Explicada Por 10 Componentes Principais: (95.78350204185794+0j)\n"
     ]
    }
   ],
   "source": [
    "print(\"Total de Variância dos Dados Explicada Por 10 Componentes Principais:\", variancia_explicada_percentual)"
   ]
  },
  {
   "cell_type": "code",
   "execution_count": 13,
   "metadata": {},
   "outputs": [],
   "source": [
    "# Calculando a variância total\n",
    "total_variance_v1 = sum(eigenval_v1)"
   ]
  },
  {
   "cell_type": "code",
   "execution_count": 14,
   "metadata": {},
   "outputs": [],
   "source": [
    "# Calculando a variância explicada por cada componente principal\n",
    "variance_explained_v1 = [(i / total_variance_v1) for i in eigenval_v1]"
   ]
  },
  {
   "cell_type": "code",
   "execution_count": 15,
   "metadata": {},
   "outputs": [],
   "source": [
    "# Calculando a variância explicada acumulada\n",
    "cumulative_variance_explained_v1 = np.cumsum(variance_explained_v1)"
   ]
  },
  {
   "cell_type": "code",
   "execution_count": 16,
   "metadata": {},
   "outputs": [
    {
     "data": {
      "text/plain": [
       "[(0.4006389994390449+0j),\n",
       " (0.14908971340570917+0j),\n",
       " (0.1299670987240649+0j),\n",
       " (0.09534871230146726+0j),\n",
       " (0.06440429234620818+0j),\n",
       " (0.038147042357559724+0j),\n",
       " (0.028828684990927906+0j),\n",
       " (0.02227699929068101+0j),\n",
       " (0.016360170455751843+0j),\n",
       " (0.012773307107164412+0j)]"
      ]
     },
     "execution_count": 16,
     "metadata": {},
     "output_type": "execute_result"
    }
   ],
   "source": [
    "# Exibindo a variância explicada por cada um dos 10 primeiros componentes principais\n",
    "variance_explained_v1[:10]"
   ]
  },
  {
   "cell_type": "code",
   "execution_count": 17,
   "metadata": {},
   "outputs": [
    {
     "data": {
      "text/plain": [
       "array([0.400639  +0.j, 0.54972871+0.j, 0.67969581+0.j, 0.77504452+0.j,\n",
       "       0.83944882+0.j, 0.87759586+0.j, 0.90642454+0.j, 0.92870154+0.j,\n",
       "       0.94506171+0.j, 0.95783502+0.j])"
      ]
     },
     "execution_count": 17,
     "metadata": {},
     "output_type": "execute_result"
    }
   ],
   "source": [
    "# Exibindo a variância acumulada dos 10 primeiros componentes principais\n",
    "cumulative_variance_explained_v1[:10]"
   ]
  },
  {
   "cell_type": "markdown",
   "metadata": {},
   "source": [
    "Cerca de 96% da informação (variação) de 49 variáveis está representada em 10 componentes principais."
   ]
  },
  {
   "cell_type": "markdown",
   "metadata": {},
   "source": [
    "#### Implementação do PCA-Version 2"
   ]
  },
  {
   "cell_type": "code",
   "execution_count": 18,
   "metadata": {},
   "outputs": [],
   "source": [
    "# Função com implementação do algoritmo PCA\n",
    "def PCA_V2(input_data):\n",
    "    \n",
    "    # Calculando a média de cada coluna\n",
    "    mean = np.mean(input_data, axis=0)\n",
    "    \n",
    "    # Subtraindo a média da matriz de entrada original\n",
    "    normalised_input = input_data - mean\n",
    "    \n",
    "    # Calculando a matriz de covariância\n",
    "    # A divisão é feita por (num_of_samples - 1) para a covariância da amostra\n",
    "    cov_mat = np.cov(normalised_input, rowvar = False)\n",
    "    \n",
    "    # Localizando autovalores e autovetores usando uma função mais adequada para matrizes simétricas\n",
    "    eigenvalues, eigenvectors = np.linalg.eigh(cov_mat)\n",
    "    \n",
    "    # Ordenando os autovetores de acordo com os autovalores em ordem decrescente\n",
    "    sorted_indices = np.argsort(eigenvalues)[::-1]\n",
    "    sorted_eigenvalues = eigenvalues[sorted_indices]\n",
    "    sorted_eigenvectors = eigenvectors[:, sorted_indices]\n",
    "    \n",
    "    # Multiplicando a matriz de componente principal com a matriz de dados de entrada para obter o PCA\n",
    "    pca_output = np.dot(normalised_input, sorted_eigenvectors)\n",
    "\n",
    "    return pca_output, sorted_eigenvalues, sorted_eigenvectors, cov_mat"
   ]
  },
  {
   "cell_type": "code",
   "execution_count": 19,
   "metadata": {},
   "outputs": [],
   "source": [
    "# Executando o PCA\n",
    "pca_out, eigenval_v2, principal_component, cov_matrix = PCA_V2(df_matriz)"
   ]
  },
  {
   "cell_type": "code",
   "execution_count": 20,
   "metadata": {},
   "outputs": [],
   "source": [
    "# Calculando a variância total\n",
    "total_variance_v2 = sum(eigenval_v2)"
   ]
  },
  {
   "cell_type": "code",
   "execution_count": 21,
   "metadata": {},
   "outputs": [],
   "source": [
    "# Calculando a variância explicada por cada componente principal\n",
    "variance_explained_v2 = [(i / total_variance_v2) for i in eigenval_v2]"
   ]
  },
  {
   "cell_type": "code",
   "execution_count": 22,
   "metadata": {},
   "outputs": [],
   "source": [
    "# Calculando a variância explicada acumulada\n",
    "cumulative_variance_explained_v2 = np.cumsum(variance_explained_v2)"
   ]
  },
  {
   "cell_type": "code",
   "execution_count": 23,
   "metadata": {},
   "outputs": [
    {
     "data": {
      "text/plain": [
       "[0.4006389994390449,\n",
       " 0.14908971340570912,\n",
       " 0.12996709872406514,\n",
       " 0.09534871230146692,\n",
       " 0.06440429234620812,\n",
       " 0.03814704235755987,\n",
       " 0.028828684990927934,\n",
       " 0.022276999290681027,\n",
       " 0.016360170455751763,\n",
       " 0.012773307107164452]"
      ]
     },
     "execution_count": 23,
     "metadata": {},
     "output_type": "execute_result"
    }
   ],
   "source": [
    "# Exibindo a variância explicada por cada um dos 10 primeiros componentes principais\n",
    "variance_explained_v2[:10]"
   ]
  },
  {
   "cell_type": "code",
   "execution_count": 24,
   "metadata": {},
   "outputs": [
    {
     "data": {
      "text/plain": [
       "array([0.400639  , 0.54972871, 0.67969581, 0.77504452, 0.83944882,\n",
       "       0.87759586, 0.90642454, 0.92870154, 0.94506171, 0.95783502])"
      ]
     },
     "execution_count": 24,
     "metadata": {},
     "output_type": "execute_result"
    }
   ],
   "source": [
    "# Exibindo a variância acumulada dos 10 primeiros componentes principais\n",
    "cumulative_variance_explained_v2[:10]"
   ]
  },
  {
   "cell_type": "markdown",
   "metadata": {},
   "source": [
    "#### Implementação do PCA-Version 3"
   ]
  },
  {
   "cell_type": "code",
   "execution_count": 25,
   "metadata": {},
   "outputs": [],
   "source": [
    "import sklearn\n",
    "from sklearn.decomposition import PCA"
   ]
  },
  {
   "cell_type": "code",
   "execution_count": 26,
   "metadata": {},
   "outputs": [],
   "source": [
    "# Aplicando PCA\n",
    "pca = PCA(n_components = 10)\n",
    "X_pca = pca.fit_transform(df_matriz)"
   ]
  },
  {
   "cell_type": "code",
   "execution_count": 27,
   "metadata": {},
   "outputs": [],
   "source": [
    "# Variância explicada por cada componente\n",
    "variance_explained_v3 = pca.explained_variance_"
   ]
  },
  {
   "cell_type": "code",
   "execution_count": 28,
   "metadata": {},
   "outputs": [],
   "source": [
    "# Proporção da variância explicada por cada componente\n",
    "variance_explained_v3_ratio = pca.explained_variance_ratio_"
   ]
  },
  {
   "cell_type": "code",
   "execution_count": 29,
   "metadata": {},
   "outputs": [],
   "source": [
    "# Variância explicada acumulada\n",
    "cumulative_variance_v3_ratio = np.cumsum(variance_explained_v3_ratio)"
   ]
  },
  {
   "cell_type": "code",
   "execution_count": 30,
   "metadata": {},
   "outputs": [
    {
     "name": "stdout",
     "output_type": "stream",
     "text": [
      "Proporção da variância explicada por cada componente:\n",
      "\n",
      " [0.400639   0.14908971 0.1299671  0.09534871 0.06440429 0.03814704\n",
      " 0.02882868 0.022277   0.01636017 0.01277331]\n"
     ]
    }
   ],
   "source": [
    "print(\"Proporção da variância explicada por cada componente:\\n\\n\", variance_explained_v3_ratio)"
   ]
  },
  {
   "cell_type": "code",
   "execution_count": 31,
   "metadata": {},
   "outputs": [
    {
     "name": "stdout",
     "output_type": "stream",
     "text": [
      "Variância explicada acumulada:\n",
      "\n",
      " [0.400639   0.54972871 0.67969581 0.77504452 0.83944882 0.87759586\n",
      " 0.90642454 0.92870154 0.94506171 0.95783502]\n"
     ]
    }
   ],
   "source": [
    "print(\"Variância explicada acumulada:\\n\\n\", cumulative_variance_v3_ratio)"
   ]
  }
 ],
 "metadata": {
  "kernelspec": {
   "display_name": "Python 3",
   "language": "python",
   "name": "python3"
  },
  "language_info": {
   "codemirror_mode": {
    "name": "ipython",
    "version": 3
   },
   "file_extension": ".py",
   "mimetype": "text/x-python",
   "name": "python",
   "nbconvert_exporter": "python",
   "pygments_lexer": "ipython3",
   "version": "3.11.4"
  }
 },
 "nbformat": 4,
 "nbformat_minor": 2
}
